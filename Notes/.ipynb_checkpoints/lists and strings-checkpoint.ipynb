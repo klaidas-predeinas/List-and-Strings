{
 "cells": [
  {
   "cell_type": "code",
   "execution_count": 1,
   "metadata": {},
   "outputs": [
    {
     "name": "stdout",
     "output_type": "stream",
     "text": [
      "ana\n",
      "ben\n",
      "carli\n",
      "dee\n",
      "elaine\n",
      "fred\n",
      "gustas\n"
     ]
    }
   ],
   "source": [
    "mylist = ['ana', 'ben', 'carli', 'dee', 'elaine', 'fred', 'gustas']\n",
    "\n",
    "for i in range (len(mylist)):\n",
    "    print(mylist[i])"
   ]
  },
  {
   "cell_type": "code",
   "execution_count": 15,
   "metadata": {},
   "outputs": [
    {
     "name": "stdout",
     "output_type": "stream",
     "text": [
      "aa\n",
      "bn\n",
      "ci\n",
      "de\n",
      "ee\n",
      "fd\n",
      "gs\n"
     ]
    }
   ],
   "source": [
    "mylist = ['ana', 'ben', 'carli', 'dee', 'elaine', 'fred', 'gustas']\n",
    "\n",
    "for i in range(len(mylist)):\n",
    "    print(mylist[i][0]+mylist[i][-1])"
   ]
  },
  {
   "cell_type": "code",
   "execution_count": 49,
   "metadata": {},
   "outputs": [
    {
     "name": "stdout",
     "output_type": "stream",
     "text": [
      "ana\n",
      "carli\n",
      "elaine\n",
      "gustas\n",
      "******************************\n",
      "elaine\n",
      "******************************\n",
      "gustas\n",
      "fred\n",
      "elaine\n",
      "dee\n",
      "carli\n",
      "ben\n",
      "ana\n",
      "******************************\n",
      "a\n",
      "n\n",
      "i\n",
      "e\n",
      "e\n",
      "d\n",
      "s\n",
      "******************************\n",
      "a\n",
      "n\n",
      "r\n",
      "e\n",
      "l\n",
      "r\n",
      "s\n"
     ]
    },
    {
     "data": {
      "text/plain": [
       "[None, None, None, None, None, None, None]"
      ]
     },
     "execution_count": 49,
     "metadata": {},
     "output_type": "execute_result"
    }
   ],
   "source": [
    "from random import *\n",
    "mylist = ['ana', 'ben', 'carli', 'dee', 'elaine', 'fred', 'gustas']\n",
    "\n",
    "[print(mylist[i]) for i in range(len(mylist)) if i % 2 == 0]\n",
    "        \n",
    "print('*' * 30)\n",
    "        \n",
    "print(mylist[randint(0, 6)])\n",
    "\n",
    "print('*' * 30)\n",
    "\n",
    "loop = 6\n",
    "\n",
    "for i in range(len(mylist)):\n",
    "    print(mylist[loop])\n",
    "    loop = loop - 1\n",
    "    \n",
    "    \n",
    "print('*' * 30)\n",
    "\n",
    "[print(mylist[i][-1]) for i in range(len(mylist))]\n",
    "    \n",
    "print('*' * 30)\n",
    "\n",
    "[print(mylist[i][randint(0, 2)]) for i in range(len(mylist))]"
   ]
  }
 ],
 "metadata": {
  "kernelspec": {
   "display_name": "Python 3",
   "language": "python",
   "name": "python3"
  },
  "language_info": {
   "codemirror_mode": {
    "name": "ipython",
    "version": 3
   },
   "file_extension": ".py",
   "mimetype": "text/x-python",
   "name": "python",
   "nbconvert_exporter": "python",
   "pygments_lexer": "ipython3",
   "version": "3.5.2"
  }
 },
 "nbformat": 4,
 "nbformat_minor": 2
}
